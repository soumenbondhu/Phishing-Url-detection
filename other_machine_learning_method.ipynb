{
 "cells": [
  {
   "cell_type": "code",
   "execution_count": 1,
   "metadata": {},
   "outputs": [],
   "source": [
    "import  pandas\n",
    "from pandas.plotting import scatter_matrix\n",
    "\n",
    "import matplotlib.pyplot as plt\n",
    "\n",
    "from sklearn import model_selection\n",
    "from sklearn.metrics import classification_report\n",
    "from sklearn.metrics import confusion_matrix\n",
    "from sklearn.metrics import accuracy_score\n",
    "\n",
    "from sklearn.linear_model import LogisticRegression\n",
    "from sklearn.tree import DecisionTreeClassifier\n",
    "from sklearn.neighbors import KNeighborsClassifier\n",
    "from sklearn.discriminant_analysis import LinearDiscriminantAnalysis\n",
    "from sklearn.naive_bayes import GaussianNB\n",
    "from sklearn.svm import SVC"
   ]
  },
  {
   "cell_type": "code",
   "execution_count": 2,
   "metadata": {},
   "outputs": [],
   "source": [
    "import pandas as pd\n",
    "feature= [\"having_IP_Address\",\n",
    "       \"URL_Length\",\n",
    "       \"Shortining_Service\",\n",
    "       \"having_At_Symbol\",\n",
    "       \"double_slash_redirecting\",\n",
    "       \"Prefix_Suffix\",\n",
    "       \"having_Sub_Domain\",\n",
    "       \"SSLfinal_State\",\n",
    "       \"Domain_registeration_length\",\n",
    "       \"Favicon\",\n",
    "       \"port\",\n",
    "       \"HTTPS_token\",\n",
    "       \"Request_URL\",\n",
    "       \"URL_of_Anchor\",\n",
    "       \"Links_in_tags\",\n",
    "       \"SFH\",\n",
    "       \"Submitting_to_email\",\n",
    "       \"Abnormal_URL\",\n",
    "       \"Redirect\",\n",
    "       \"on_mouseover\",\n",
    "       \"RightClick\",\n",
    "       \"popUpWidnow\",\n",
    "       \"Iframe\",\n",
    "       \"age_of_domain\",\n",
    "       \"DNSRecord\",\n",
    "       \"web_traffic\",\n",
    "       \"Page_Rank\",\n",
    "       \"Google_Index\",\n",
    "       \"Links_pointing_to_page\",\n",
    "       \"Statistical_report\",\n",
    "       \"Result\"]"
   ]
  },
  {
   "cell_type": "code",
   "execution_count": 3,
   "metadata": {},
   "outputs": [],
   "source": [
    "df=pd.read_csv('phishing_Dataset.csv',names=feature)"
   ]
  },
  {
   "cell_type": "code",
   "execution_count": 4,
   "metadata": {},
   "outputs": [
    {
     "data": {
      "text/html": [
       "<div>\n",
       "<style scoped>\n",
       "    .dataframe tbody tr th:only-of-type {\n",
       "        vertical-align: middle;\n",
       "    }\n",
       "\n",
       "    .dataframe tbody tr th {\n",
       "        vertical-align: top;\n",
       "    }\n",
       "\n",
       "    .dataframe thead th {\n",
       "        text-align: right;\n",
       "    }\n",
       "</style>\n",
       "<table border=\"1\" class=\"dataframe\">\n",
       "  <thead>\n",
       "    <tr style=\"text-align: right;\">\n",
       "      <th></th>\n",
       "      <th>having_IP_Address</th>\n",
       "      <th>URL_Length</th>\n",
       "      <th>Shortining_Service</th>\n",
       "      <th>having_At_Symbol</th>\n",
       "      <th>double_slash_redirecting</th>\n",
       "      <th>Prefix_Suffix</th>\n",
       "      <th>having_Sub_Domain</th>\n",
       "      <th>SSLfinal_State</th>\n",
       "      <th>Domain_registeration_length</th>\n",
       "      <th>Favicon</th>\n",
       "      <th>...</th>\n",
       "      <th>popUpWidnow</th>\n",
       "      <th>Iframe</th>\n",
       "      <th>age_of_domain</th>\n",
       "      <th>DNSRecord</th>\n",
       "      <th>web_traffic</th>\n",
       "      <th>Page_Rank</th>\n",
       "      <th>Google_Index</th>\n",
       "      <th>Links_pointing_to_page</th>\n",
       "      <th>Statistical_report</th>\n",
       "      <th>Result</th>\n",
       "    </tr>\n",
       "  </thead>\n",
       "  <tbody>\n",
       "    <tr>\n",
       "      <th>0</th>\n",
       "      <td>-1</td>\n",
       "      <td>1</td>\n",
       "      <td>1</td>\n",
       "      <td>1</td>\n",
       "      <td>-1</td>\n",
       "      <td>-1</td>\n",
       "      <td>-1</td>\n",
       "      <td>-1</td>\n",
       "      <td>-1</td>\n",
       "      <td>1</td>\n",
       "      <td>...</td>\n",
       "      <td>1</td>\n",
       "      <td>1</td>\n",
       "      <td>-1</td>\n",
       "      <td>-1</td>\n",
       "      <td>-1</td>\n",
       "      <td>-1</td>\n",
       "      <td>1</td>\n",
       "      <td>1</td>\n",
       "      <td>-1</td>\n",
       "      <td>-1</td>\n",
       "    </tr>\n",
       "    <tr>\n",
       "      <th>1</th>\n",
       "      <td>1</td>\n",
       "      <td>1</td>\n",
       "      <td>1</td>\n",
       "      <td>1</td>\n",
       "      <td>1</td>\n",
       "      <td>-1</td>\n",
       "      <td>0</td>\n",
       "      <td>1</td>\n",
       "      <td>-1</td>\n",
       "      <td>1</td>\n",
       "      <td>...</td>\n",
       "      <td>1</td>\n",
       "      <td>1</td>\n",
       "      <td>-1</td>\n",
       "      <td>-1</td>\n",
       "      <td>0</td>\n",
       "      <td>-1</td>\n",
       "      <td>1</td>\n",
       "      <td>1</td>\n",
       "      <td>1</td>\n",
       "      <td>-1</td>\n",
       "    </tr>\n",
       "    <tr>\n",
       "      <th>2</th>\n",
       "      <td>1</td>\n",
       "      <td>0</td>\n",
       "      <td>1</td>\n",
       "      <td>1</td>\n",
       "      <td>1</td>\n",
       "      <td>-1</td>\n",
       "      <td>-1</td>\n",
       "      <td>-1</td>\n",
       "      <td>-1</td>\n",
       "      <td>1</td>\n",
       "      <td>...</td>\n",
       "      <td>1</td>\n",
       "      <td>1</td>\n",
       "      <td>1</td>\n",
       "      <td>-1</td>\n",
       "      <td>1</td>\n",
       "      <td>-1</td>\n",
       "      <td>1</td>\n",
       "      <td>0</td>\n",
       "      <td>-1</td>\n",
       "      <td>-1</td>\n",
       "    </tr>\n",
       "    <tr>\n",
       "      <th>3</th>\n",
       "      <td>1</td>\n",
       "      <td>0</td>\n",
       "      <td>1</td>\n",
       "      <td>1</td>\n",
       "      <td>1</td>\n",
       "      <td>-1</td>\n",
       "      <td>-1</td>\n",
       "      <td>-1</td>\n",
       "      <td>1</td>\n",
       "      <td>1</td>\n",
       "      <td>...</td>\n",
       "      <td>1</td>\n",
       "      <td>1</td>\n",
       "      <td>-1</td>\n",
       "      <td>-1</td>\n",
       "      <td>1</td>\n",
       "      <td>-1</td>\n",
       "      <td>1</td>\n",
       "      <td>-1</td>\n",
       "      <td>1</td>\n",
       "      <td>-1</td>\n",
       "    </tr>\n",
       "    <tr>\n",
       "      <th>4</th>\n",
       "      <td>1</td>\n",
       "      <td>0</td>\n",
       "      <td>-1</td>\n",
       "      <td>1</td>\n",
       "      <td>1</td>\n",
       "      <td>-1</td>\n",
       "      <td>1</td>\n",
       "      <td>1</td>\n",
       "      <td>-1</td>\n",
       "      <td>1</td>\n",
       "      <td>...</td>\n",
       "      <td>-1</td>\n",
       "      <td>1</td>\n",
       "      <td>-1</td>\n",
       "      <td>-1</td>\n",
       "      <td>0</td>\n",
       "      <td>-1</td>\n",
       "      <td>1</td>\n",
       "      <td>1</td>\n",
       "      <td>1</td>\n",
       "      <td>1</td>\n",
       "    </tr>\n",
       "  </tbody>\n",
       "</table>\n",
       "<p>5 rows × 31 columns</p>\n",
       "</div>"
      ],
      "text/plain": [
       "   having_IP_Address  URL_Length  Shortining_Service  having_At_Symbol  \\\n",
       "0                 -1           1                   1                 1   \n",
       "1                  1           1                   1                 1   \n",
       "2                  1           0                   1                 1   \n",
       "3                  1           0                   1                 1   \n",
       "4                  1           0                  -1                 1   \n",
       "\n",
       "   double_slash_redirecting  Prefix_Suffix  having_Sub_Domain  SSLfinal_State  \\\n",
       "0                        -1             -1                 -1              -1   \n",
       "1                         1             -1                  0               1   \n",
       "2                         1             -1                 -1              -1   \n",
       "3                         1             -1                 -1              -1   \n",
       "4                         1             -1                  1               1   \n",
       "\n",
       "   Domain_registeration_length  Favicon  ...  popUpWidnow  Iframe  \\\n",
       "0                           -1        1  ...            1       1   \n",
       "1                           -1        1  ...            1       1   \n",
       "2                           -1        1  ...            1       1   \n",
       "3                            1        1  ...            1       1   \n",
       "4                           -1        1  ...           -1       1   \n",
       "\n",
       "   age_of_domain  DNSRecord  web_traffic  Page_Rank  Google_Index  \\\n",
       "0             -1         -1           -1         -1             1   \n",
       "1             -1         -1            0         -1             1   \n",
       "2              1         -1            1         -1             1   \n",
       "3             -1         -1            1         -1             1   \n",
       "4             -1         -1            0         -1             1   \n",
       "\n",
       "   Links_pointing_to_page  Statistical_report  Result  \n",
       "0                       1                  -1      -1  \n",
       "1                       1                   1      -1  \n",
       "2                       0                  -1      -1  \n",
       "3                      -1                   1      -1  \n",
       "4                       1                   1       1  \n",
       "\n",
       "[5 rows x 31 columns]"
      ]
     },
     "execution_count": 4,
     "metadata": {},
     "output_type": "execute_result"
    }
   ],
   "source": [
    "df.head()"
   ]
  },
  {
   "cell_type": "code",
   "execution_count": 5,
   "metadata": {},
   "outputs": [],
   "source": [
    "import matplotlib.pyplot as plt\n",
    "import seaborn as sns\n",
    "import numpy as np\n",
    "from sklearn.ensemble import RandomForestClassifier\n",
    "from sklearn.model_selection import train_test_split\n",
    "from sklearn.naive_bayes import BernoulliNB\n",
    "from sklearn.linear_model import LogisticRegression\n",
    "from sklearn.neighbors import KNeighborsClassifier"
   ]
  },
  {
   "cell_type": "code",
   "execution_count": 6,
   "metadata": {},
   "outputs": [
    {
     "data": {
      "text/plain": [
       "<matplotlib.axes._subplots.AxesSubplot at 0x1e8e01170c8>"
      ]
     },
     "execution_count": 6,
     "metadata": {},
     "output_type": "execute_result"
    },
    {
     "data": {
      "image/png": "[encoded data removed]",
      "text/plain": [
       "<Figure size 432x288 with 1 Axes>"
      ]
     },
     "metadata": {
      "needs_background": "light"
     },
     "output_type": "display_data"
    }
   ],
   "source": [
    "sns.countplot(df['Result'])"
   ]
  },
  {
   "cell_type": "code",
   "execution_count": 7,
   "metadata": {},
   "outputs": [],
   "source": [
    "x_train,x_test,y_train,y_test=train_test_split(df.iloc[:,:-1],df['Result'])"
   ]
  },
  {
   "cell_type": "code",
   "execution_count": 8,
   "metadata": {},
   "outputs": [],
   "source": [
    "train_accuracy=[]\n",
    "test_accuracy=[]"
   ]
  },
  {
   "cell_type": "markdown",
   "metadata": {},
   "source": [
    "## Random forest"
   ]
  },
  {
   "cell_type": "code",
   "execution_count": 9,
   "metadata": {},
   "outputs": [
    {
     "data": {
      "text/plain": [
       "0.9670767004341534"
      ]
     },
     "execution_count": 9,
     "metadata": {},
     "output_type": "execute_result"
    }
   ],
   "source": [
    "model=RandomForestClassifier()\n",
    "model.fit(x_train,y_train)\n",
    "y=model.predict(x_test)\n",
    "np.mean(y==y_test)"
   ]
  },
  {
   "cell_type": "code",
   "execution_count": 10,
   "metadata": {},
   "outputs": [
    {
     "name": "stdout",
     "output_type": "stream",
     "text": [
      "0.9905922084187674\n",
      "0.9670767004341534\n"
     ]
    }
   ],
   "source": [
    "train_accuracy.append(model.score(x_train,y_train))\n",
    "test_accuracy.append(model.score(x_test,y_test))\n",
    "print(model.score(x_train,y_train))\n",
    "print(model.score(x_test,y_test))"
   ]
  },
  {
   "cell_type": "code",
   "execution_count": 11,
   "metadata": {},
   "outputs": [
    {
     "name": "stdout",
     "output_type": "stream",
     "text": [
      "accuracy =  0.9670767004341534\n",
      "\n",
      "\n",
      "precision =  0.962532299741602\n",
      "\n",
      "\n",
      "recall =  0.9783322390019698\n",
      "\n",
      "\n",
      "f1_score =  0.9703679583197655\n"
     ]
    }
   ],
   "source": [
    "from sklearn.metrics import accuracy_score\n",
    "from sklearn.metrics import precision_score\n",
    "from sklearn.metrics import recall_score\n",
    "from sklearn.metrics import f1_score\n",
    "\n",
    "pred=model.predict(x_test)\n",
    "\n",
    "accuracy=accuracy_score(y_test,pred)\n",
    "print(\"accuracy = \",accuracy)\n",
    "print(\"\\n\")\n",
    "precision=precision_score(y_test,pred)\n",
    "print(\"precision = \",precision)\n",
    "print(\"\\n\")\n",
    "recall=recall_score(y_test,pred)\n",
    "print(\"recall = \",recall)\n",
    "print(\"\\n\")\n",
    "f1_score=f1_score(y_test,pred)\n",
    "print(\"f1_score = \",f1_score)"
   ]
  },
  {
   "cell_type": "markdown",
   "metadata": {},
   "source": [
    "## Logistic regration"
   ]
  },
  {
   "cell_type": "code",
   "execution_count": 12,
   "metadata": {},
   "outputs": [
    {
     "data": {
      "text/plain": [
       "0.9247467438494935"
      ]
     },
     "execution_count": 12,
     "metadata": {},
     "output_type": "execute_result"
    }
   ],
   "source": [
    "model=LogisticRegression()\n",
    "model.fit(x_train,y_train)\n",
    "y=model.predict(x_test)\n",
    "np.mean(y==y_test)"
   ]
  },
  {
   "cell_type": "code",
   "execution_count": 13,
   "metadata": {},
   "outputs": [
    {
     "name": "stdout",
     "output_type": "stream",
     "text": [
      "0.9284766614401158\n",
      "0.9247467438494935\n"
     ]
    }
   ],
   "source": [
    "train_accuracy.append(model.score(x_train,y_train))\n",
    "test_accuracy.append(model.score(x_test,y_test))\n",
    "print(model.score(x_train,y_train))\n",
    "print(model.score(x_test,y_test))"
   ]
  },
  {
   "cell_type": "code",
   "execution_count": 14,
   "metadata": {},
   "outputs": [
    {
     "name": "stdout",
     "output_type": "stream",
     "text": [
      "accuracy =  0.9247467438494935\n",
      "\n",
      "\n",
      "precision =  0.9255663430420712\n",
      "\n",
      "\n",
      "recall =  0.9389363099146422\n",
      "\n",
      "\n",
      "f1_score =  0.9322033898305084\n"
     ]
    }
   ],
   "source": [
    "from sklearn.metrics import f1_score\n",
    "pred=model.predict(x_test)\n",
    "\n",
    "accuracy=accuracy_score(y_test,pred)\n",
    "print(\"accuracy = \",accuracy)\n",
    "print(\"\\n\")\n",
    "precision=precision_score(y_test,pred)\n",
    "print(\"precision = \",precision)\n",
    "print(\"\\n\")\n",
    "recall=recall_score(y_test,pred)\n",
    "print(\"recall = \",recall)\n",
    "print(\"\\n\")\n",
    "f1_score=f1_score(y_test,pred)\n",
    "print(\"f1_score = \",f1_score)"
   ]
  },
  {
   "cell_type": "markdown",
   "metadata": {},
   "source": [
    "## KNN"
   ]
  },
  {
   "cell_type": "code",
   "execution_count": 15,
   "metadata": {},
   "outputs": [
    {
     "name": "stdout",
     "output_type": "stream",
     "text": [
      "0.941027496382055\n",
      "0.9370477568740955\n",
      "0.9298118668596237\n",
      "0.9251085383502171\n"
     ]
    }
   ],
   "source": [
    "k=[3,5,7,11]\n",
    "for i in k:\n",
    "    model=KNeighborsClassifier(n_neighbors=i)\n",
    "    model.fit(x_train,y_train)\n",
    "    y=model.predict(x_test)\n",
    "    print(np.mean(y==y_test))"
   ]
  },
  {
   "cell_type": "code",
   "execution_count": 16,
   "metadata": {},
   "outputs": [
    {
     "name": "stdout",
     "output_type": "stream",
     "text": [
      "0.9472922446025811\n",
      "0.9251085383502171\n"
     ]
    }
   ],
   "source": [
    "train_accuracy.append(model.score(x_train,y_train))\n",
    "test_accuracy.append(model.score(x_test,y_test))\n",
    "print(model.score(x_train,y_train))\n",
    "print(model.score(x_test,y_test))"
   ]
  },
  {
   "cell_type": "code",
   "execution_count": 17,
   "metadata": {},
   "outputs": [
    {
     "name": "stdout",
     "output_type": "stream",
     "text": [
      "accuracy =  0.9251085383502171\n",
      "\n",
      "\n",
      "precision =  0.9340369393139841\n",
      "\n",
      "\n",
      "recall =  0.9297439264609324\n",
      "\n",
      "\n",
      "f1_score =  0.9318854886475815\n"
     ]
    }
   ],
   "source": [
    "from sklearn.metrics import f1_score\n",
    "pred=model.predict(x_test)\n",
    "\n",
    "accuracy=accuracy_score(y_test,pred)\n",
    "print(\"accuracy = \",accuracy)\n",
    "print(\"\\n\")\n",
    "precision=precision_score(y_test,pred)\n",
    "print(\"precision = \",precision)\n",
    "print(\"\\n\")\n",
    "recall=recall_score(y_test,pred)\n",
    "print(\"recall = \",recall)\n",
    "print(\"\\n\")\n",
    "f1_score=f1_score(y_test,pred)\n",
    "print(\"f1_score = \",f1_score)"
   ]
  },
  {
   "cell_type": "markdown",
   "metadata": {},
   "source": [
    "## XGboost"
   ]
  },
  {
   "cell_type": "code",
   "execution_count": 18,
   "metadata": {},
   "outputs": [],
   "source": [
    "#model.feature_importances\n",
    "#dir(model)\n",
    "#model.coef"
   ]
  },
  {
   "cell_type": "code",
   "execution_count": 19,
   "metadata": {},
   "outputs": [],
   "source": [
    "from xgboost import XGBRFClassifier"
   ]
  },
  {
   "cell_type": "code",
   "execution_count": 20,
   "metadata": {},
   "outputs": [
    {
     "data": {
      "text/plain": [
       "0.9124457308248914"
      ]
     },
     "execution_count": 20,
     "metadata": {},
     "output_type": "execute_result"
    }
   ],
   "source": [
    "model=XGBRFClassifier()\n",
    "model.fit(x_train,y_train)\n",
    "y=model.predict(x_test)\n",
    "np.mean(y==y_test)"
   ]
  },
  {
   "cell_type": "code",
   "execution_count": 21,
   "metadata": {},
   "outputs": [
    {
     "name": "stdout",
     "output_type": "stream",
     "text": [
      "0.916536002894705\n",
      "0.9124457308248914\n"
     ]
    }
   ],
   "source": [
    "train_accuracy.append(model.score(x_train,y_train))\n",
    "test_accuracy.append(model.score(x_test,y_test))\n",
    "print(model.score(x_train,y_train))\n",
    "print(model.score(x_test,y_test))"
   ]
  },
  {
   "cell_type": "code",
   "execution_count": 22,
   "metadata": {},
   "outputs": [
    {
     "name": "stdout",
     "output_type": "stream",
     "text": [
      "accuracy =  0.9124457308248914\n",
      "\n",
      "\n",
      "precision =  0.9250165892501659\n",
      "\n",
      "\n",
      "recall =  0.9152987524622456\n",
      "\n",
      "\n",
      "f1_score =  0.9201320132013201\n"
     ]
    }
   ],
   "source": [
    "from sklearn.metrics import f1_score\n",
    "pred=model.predict(x_test)\n",
    "\n",
    "accuracy=accuracy_score(y_test,pred)\n",
    "print(\"accuracy = \",accuracy)\n",
    "print(\"\\n\")\n",
    "precision=precision_score(y_test,pred)\n",
    "print(\"precision = \",precision)\n",
    "print(\"\\n\")\n",
    "recall=recall_score(y_test,pred)\n",
    "print(\"recall = \",recall)\n",
    "print(\"\\n\")\n",
    "f1_score=f1_score(y_test,pred)\n",
    "print(\"f1_score = \",f1_score)"
   ]
  },
  {
   "cell_type": "markdown",
   "metadata": {},
   "source": [
    "## SVM"
   ]
  },
  {
   "cell_type": "code",
   "execution_count": 23,
   "metadata": {},
   "outputs": [
    {
     "data": {
      "text/plain": [
       "0.9450072358900145"
      ]
     },
     "execution_count": 23,
     "metadata": {},
     "output_type": "execute_result"
    }
   ],
   "source": [
    "model=SVC()\n",
    "model.fit(x_train,y_train)\n",
    "y=model.predict(x_test)\n",
    "np.mean(y==y_test)"
   ]
  },
  {
   "cell_type": "code",
   "execution_count": 24,
   "metadata": {},
   "outputs": [
    {
     "name": "stdout",
     "output_type": "stream",
     "text": [
      "0.9534434929441563\n",
      "0.9450072358900145\n"
     ]
    }
   ],
   "source": [
    "train_accuracy.append(model.score(x_train,y_train))\n",
    "test_accuracy.append(model.score(x_test,y_test))\n",
    "print(model.score(x_train,y_train))\n",
    "print(model.score(x_test,y_test))"
   ]
  },
  {
   "cell_type": "code",
   "execution_count": 25,
   "metadata": {},
   "outputs": [
    {
     "name": "stdout",
     "output_type": "stream",
     "text": [
      "accuracy =  0.9450072358900145\n",
      "\n",
      "\n",
      "precision =  0.9431157078215902\n",
      "\n",
      "\n",
      "recall =  0.9579776756401839\n",
      "\n",
      "\n",
      "f1_score =  0.9504885993485341\n"
     ]
    }
   ],
   "source": [
    "from sklearn.metrics import f1_score\n",
    "pred=model.predict(x_test)\n",
    "\n",
    "accuracy=accuracy_score(y_test,pred)\n",
    "print(\"accuracy = \",accuracy)\n",
    "print(\"\\n\")\n",
    "precision=precision_score(y_test,pred)\n",
    "print(\"precision = \",precision)\n",
    "print(\"\\n\")\n",
    "recall=recall_score(y_test,pred)\n",
    "print(\"recall = \",recall)\n",
    "print(\"\\n\")\n",
    "f1_score=f1_score(y_test,pred)\n",
    "print(\"f1_score = \",f1_score)"
   ]
  },
  {
   "cell_type": "markdown",
   "metadata": {},
   "source": [
    "## Naive Bayes"
   ]
  },
  {
   "cell_type": "code",
   "execution_count": 26,
   "metadata": {},
   "outputs": [
    {
     "data": {
      "text/plain": [
       "0.9450072358900145"
      ]
     },
     "execution_count": 26,
     "metadata": {},
     "output_type": "execute_result"
    }
   ],
   "source": [
    "BernoulliNB()\n",
    "model.fit(x_train,y_train)\n",
    "y=model.predict(x_test)\n",
    "np.mean(y==y_test)"
   ]
  },
  {
   "cell_type": "code",
   "execution_count": 27,
   "metadata": {},
   "outputs": [
    {
     "name": "stdout",
     "output_type": "stream",
     "text": [
      "0.9534434929441563\n",
      "0.9450072358900145\n"
     ]
    }
   ],
   "source": [
    "train_accuracy.append(model.score(x_train,y_train))\n",
    "test_accuracy.append(model.score(x_test,y_test))\n",
    "print(model.score(x_train,y_train))\n",
    "print(model.score(x_test,y_test))"
   ]
  },
  {
   "cell_type": "code",
   "execution_count": 28,
   "metadata": {},
   "outputs": [
    {
     "name": "stdout",
     "output_type": "stream",
     "text": [
      "accuracy =  0.9450072358900145\n",
      "\n",
      "\n",
      "precision =  0.9431157078215902\n",
      "\n",
      "\n",
      "recall =  0.9579776756401839\n",
      "\n",
      "\n",
      "f1_score =  0.9504885993485341\n"
     ]
    }
   ],
   "source": [
    "from sklearn.metrics import f1_score\n",
    "pred=model.predict(x_test)\n",
    "\n",
    "accuracy=accuracy_score(y_test,pred)\n",
    "print(\"accuracy = \",accuracy)\n",
    "print(\"\\n\")\n",
    "precision=precision_score(y_test,pred)\n",
    "print(\"precision = \",precision)\n",
    "print(\"\\n\")\n",
    "recall=recall_score(y_test,pred)\n",
    "print(\"recall = \",recall)\n",
    "print(\"\\n\")\n",
    "f1_score=f1_score(y_test,pred)\n",
    "print(\"f1_score = \",f1_score)"
   ]
  },
  {
   "cell_type": "code",
   "execution_count": 29,
   "metadata": {},
   "outputs": [
    {
     "data": {
      "text/plain": [
       "'\\nmodel=GaussianNB()\\nmodel.fit(x_train,y_train)\\ny=model.predict(x_test)\\nnp.mean(y==y_test)\\n\\ntrain_accuracy.append(model.score(x_train,y_train))\\ntest_accuracy.append(model.score(x_test,y_test))\\nprint(model.score(x_train,y_train))\\nprint(model.score(x_test,y_test))\\n'"
      ]
     },
     "execution_count": 29,
     "metadata": {},
     "output_type": "execute_result"
    }
   ],
   "source": [
    "'''\n",
    "model=GaussianNB()\n",
    "model.fit(x_train,y_train)\n",
    "y=model.predict(x_test)\n",
    "np.mean(y==y_test)\n",
    "\n",
    "train_accuracy.append(model.score(x_train,y_train))\n",
    "test_accuracy.append(model.score(x_test,y_test))\n",
    "print(model.score(x_train,y_train))\n",
    "print(model.score(x_test,y_test))\n",
    "'''"
   ]
  },
  {
   "cell_type": "markdown",
   "metadata": {},
   "source": [
    "## Decision Tree"
   ]
  },
  {
   "cell_type": "code",
   "execution_count": 30,
   "metadata": {},
   "outputs": [
    {
     "data": {
      "text/plain": [
       "0.9598408104196816"
      ]
     },
     "execution_count": 30,
     "metadata": {},
     "output_type": "execute_result"
    }
   ],
   "source": [
    "model=DecisionTreeClassifier()\n",
    "model.fit(x_train,y_train)\n",
    "y=model.predict(x_test)\n",
    "np.mean(y==y_test)"
   ]
  },
  {
   "cell_type": "code",
   "execution_count": 31,
   "metadata": {},
   "outputs": [
    {
     "name": "stdout",
     "output_type": "stream",
     "text": [
      "0.9905922084187674\n",
      "0.9598408104196816\n"
     ]
    }
   ],
   "source": [
    "train_accuracy.append(model.score(x_train,y_train))\n",
    "test_accuracy.append(model.score(x_test,y_test))\n",
    "print(model.score(x_train,y_train))\n",
    "print(model.score(x_test,y_test))"
   ]
  },
  {
   "cell_type": "code",
   "execution_count": 32,
   "metadata": {},
   "outputs": [
    {
     "name": "stdout",
     "output_type": "stream",
     "text": [
      "accuracy =  0.9598408104196816\n",
      "\n",
      "\n",
      "precision =  0.9656992084432717\n",
      "\n",
      "\n",
      "recall =  0.9612606697307945\n",
      "\n",
      "\n",
      "f1_score =  0.9634748272458046\n"
     ]
    }
   ],
   "source": [
    "from sklearn.metrics import f1_score\n",
    "pred=model.predict(x_test)\n",
    "\n",
    "accuracy=accuracy_score(y_test,pred)\n",
    "print(\"accuracy = \",accuracy)\n",
    "print(\"\\n\")\n",
    "precision=precision_score(y_test,pred)\n",
    "print(\"precision = \",precision)\n",
    "print(\"\\n\")\n",
    "recall=recall_score(y_test,pred)\n",
    "print(\"recall = \",recall)\n",
    "print(\"\\n\")\n",
    "f1_score=f1_score(y_test,pred)\n",
    "print(\"f1_score = \",f1_score)"
   ]
  },
  {
   "cell_type": "code",
   "execution_count": 33,
   "metadata": {},
   "outputs": [],
   "source": [
    "train_accuracy.append(0.9855259757043163)\n",
    "test_accuracy.append(0.9822074788902292)"
   ]
  },
  {
   "cell_type": "code",
   "execution_count": 34,
   "metadata": {},
   "outputs": [
    {
     "name": "stdout",
     "output_type": "stream",
     "text": [
      "[0.9905922084187674, 0.9284766614401158, 0.9472922446025811, 0.916536002894705, 0.9534434929441563, 0.9534434929441563, 0.9905922084187674, 0.9855259757043163]\n",
      "[0.9670767004341534, 0.9247467438494935, 0.9251085383502171, 0.9124457308248914, 0.9450072358900145, 0.9450072358900145, 0.9598408104196816, 0.9822074788902292]\n"
     ]
    }
   ],
   "source": [
    "print(train_accuracy)\n",
    "print(test_accuracy)"
   ]
  },
  {
   "cell_type": "code",
   "execution_count": 35,
   "metadata": {},
   "outputs": [
    {
     "data": {
      "image/png": "[encoded data removed]",
      "text/plain": [
       "<Figure size 1440x360 with 1 Axes>"
      ]
     },
     "metadata": {
      "needs_background": "light"
     },
     "output_type": "display_data"
    }
   ],
   "source": [
    "from matplotlib import pyplot as plt\n",
    "N=8\n",
    "L=['Randomforest','LR','KNN','XGboost','SVM','Naive Bayes','DecisionTree','NN']\n",
    "fig, ax = plt.subplots(figsize=(20,5))\n",
    "width=0.20\n",
    "model=np.arange(N)\n",
    "p1=ax.bar(model,train_accuracy,width)\n",
    "p2=ax.bar(model+width,test_accuracy,width)\n",
    "ax.set_title(\"Train & Test accuracy for all Machine Learning model\")\n",
    "ax.set_xticks(model+width/2)\n",
    "ax.set_xticklabels(L)\n",
    "\n",
    "ax.legend((p1[0],p2[0]),('train_acc','test_acc'))\n",
    "#ax.autoscale_view()\n",
    "\n",
    "plt.ylim(0.9,1)\n",
    "ax.grid()\n",
    "plt.show()"
   ]
  },
  {
   "cell_type": "code",
   "execution_count": 36,
   "metadata": {},
   "outputs": [],
   "source": [
    "\n",
    "train_accuracy1=[0.9546394417162057,\n",
    " 0.9285345050400621,\n",
    " 0.9657534246575342,\n",
    " 0.9817782372706125,\n",
    " 0.9875936934608426,\n",
    " 0.9877229258206255,\n",
    " 0.9883690876195399,\n",
    " 0.9848798139054019]\n",
    "test_accuracy1=[0.9541616405307599,\n",
    " 0.9336550060313631,\n",
    " 0.9647165259348612,\n",
    " 0.9764776839565742,\n",
    " 0.9800965018094089,\n",
    " 0.982810615199035,\n",
    " 0.9819059107358263,\n",
    " 0.9813027744270205]"
   ]
  },
  {
   "cell_type": "code",
   "execution_count": 37,
   "metadata": {},
   "outputs": [
    {
     "data": {
      "image/png": "[encoded data removed]",
      "text/plain": [
       "<Figure size 1440x360 with 1 Axes>"
      ]
     },
     "metadata": {
      "needs_background": "light"
     },
     "output_type": "display_data"
    }
   ],
   "source": [
    "N=8\n",
    "L=['1st','2nd','3rd','4th','5th','6th','7th','8th']\n",
    "fig, ax = plt.subplots(figsize=(20,5))\n",
    "width=0.20\n",
    "model=np.arange(N)\n",
    "p1=ax.bar(model,train_accuracy1,width)\n",
    "p2=ax.bar(model+width,test_accuracy1,width)\n",
    "ax.set_title(\"train & test accuracy for all model\")\n",
    "ax.set_xticks(model+width/2)\n",
    "ax.set_xticklabels(L)\n",
    "\n",
    "ax.legend((p1[0],p2[0]),('train_acc','test_acc'))\n",
    "ax.autoscale_view()\n",
    "plt.ylim(0.925,1)\n",
    "ax.grid()\n",
    "plt.show()"
   ]
  },
  {
   "cell_type": "code",
   "execution_count": 40,
   "metadata": {},
   "outputs": [
    {
     "data": {
      "image/png": "[encoded data removed]",
      "text/plain": [
       "<Figure size 432x288 with 1 Axes>"
      ]
     },
     "metadata": {
      "needs_background": "light"
     },
     "output_type": "display_data"
    }
   ],
   "source": [
    "from matplotlib import pyplot as plt\n",
    "N=8\n",
    "L=['1st','2nd','3rd','4th','5th','6th','7th','8th']\n",
    "fig, ax = plt.subplots()\n",
    "#index=np.arange(N)\n",
    "width=0.20\n",
    "opacity=0.5\n",
    "model=np.arange(N)\n",
    "\n",
    "p1=plt.bar(model,train_accuracy,width,alpha=opacity,color='b',label='train')\n",
    "p2=plt.bar(model+width,test_accuracy,width,alpha=opacity,color='g',label='test')\n",
    "\n",
    "#plt.set_title(\"train & test accuracy for all model\")\n",
    "#plt.set_xticks(model+width/2)\n",
    "#plt.set_xticklabels(L)\n",
    "\n",
    "plt.legend()\n",
    "#ax.autoscale_view()\n",
    "#plt.ylim(0.925,1)\n",
    "plt.grid()\n",
    "plt.show()"
   ]
  },
  {
   "cell_type": "code",
   "execution_count": 41,
   "metadata": {},
   "outputs": [
    {
     "data": {
      "image/png": "[encoded data removed]",
      "text/plain": [
       "<Figure size 432x288 with 1 Axes>"
      ]
     },
     "metadata": {
      "needs_background": "light"
     },
     "output_type": "display_data"
    }
   ],
   "source": [
    "L=['1st','2nd','3rd','4th','5th','6th','7th','8th']\n",
    "fig=plt.figure()\n",
    "fig.suptitle(\"algorithmn comparison\")\n",
    "ax=fig.add_subplot(111)\n",
    "plt.boxplot(train_accuracy)\n",
    "ax.set_xticklabels(L)\n",
    "plt.show()"
   ]
  },
  {
   "cell_type": "code",
   "execution_count": null,
   "metadata": {},
   "outputs": [],
   "source": []
  }
 ],
 "metadata": {
  "kernelspec": {
   "display_name": "Python 3",
   "language": "python",
   "name": "python3"
  },
  "language_info": {
   "codemirror_mode": {
    "name": "ipython",
    "version": 3
   },
   "file_extension": ".py",
   "mimetype": "text/x-python",
   "name": "python",
   "nbconvert_exporter": "python",
   "pygments_lexer": "ipython3",
   "version": "3.7.6"
  }
 },
 "nbformat": 4,
 "nbformat_minor": 2
}
